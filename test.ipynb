{
 "cells": [
  {
   "cell_type": "code",
   "execution_count": 3,
   "metadata": {},
   "outputs": [],
   "source": [
    "import os\n",
    "\n",
    "os.startfile(\"D:\\tencent\\Bin\\QQScLauncher.exe\")"
   ]
  },
  {
   "cell_type": "code",
   "execution_count": 17,
   "metadata": {},
   "outputs": [
    {
     "name": "stdout",
     "output_type": "stream",
     "text": [
      "['left']\n",
      "True\n"
     ]
    }
   ],
   "source": [
    "from array import array\n",
    "import numpy as np\n",
    "\n",
    "a = {'left':{'abc':123}}\n",
    "b = {'abc':123}\n",
    "print((a.keys()))\n",
    "# print(a.get('let') == b)\n",
    "# for i in [0,1,2]:\n",
    "#     print(len(a))\n",
    "\n",
    "print(a['left'] == b)"
   ]
  },
  {
   "cell_type": "code",
   "execution_count": 3,
   "metadata": {},
   "outputs": [
    {
     "name": "stdout",
     "output_type": "stream",
     "text": [
      "h\n"
     ]
    }
   ],
   "source": [
    "if not []:\n",
    "    print('h')"
   ]
  },
  {
   "cell_type": "code",
   "execution_count": null,
   "metadata": {},
   "outputs": [],
   "source": []
  }
 ],
 "metadata": {
  "kernelspec": {
   "display_name": "Python 3.9.12 ('base')",
   "language": "python",
   "name": "python3"
  },
  "language_info": {
   "codemirror_mode": {
    "name": "ipython",
    "version": 3
   },
   "file_extension": ".py",
   "mimetype": "text/x-python",
   "name": "python",
   "nbconvert_exporter": "python",
   "pygments_lexer": "ipython3",
   "version": "3.9.12"
  },
  "orig_nbformat": 4,
  "vscode": {
   "interpreter": {
    "hash": "cee29030f00b644ef994a777608df7bfcad8a1bfa20552ef10eebb01f7e42e16"
   }
  }
 },
 "nbformat": 4,
 "nbformat_minor": 2
}
