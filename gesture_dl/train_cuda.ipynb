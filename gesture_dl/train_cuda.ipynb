{
 "cells": [
  {
   "cell_type": "code",
   "execution_count": 2,
   "metadata": {},
   "outputs": [],
   "source": [
    "import torch\n",
    "from torch.utils.data import DataLoader\n",
    "from torch.utils.tensorboard import SummaryWriter\n",
    "from torch import nn\n",
    "import os\n",
    "import numpy as np\n",
    "import random\n",
    "from dataset import IPNHandDataset, zeropad_collate_fn\n",
    "from lstm_model import SequenceClassification"
   ]
  },
  {
   "cell_type": "code",
   "execution_count": 3,
   "metadata": {},
   "outputs": [],
   "source": [
    "# setting seed\n",
    "def settle_seed(seed= 66):\n",
    "  os.environ['PYTHONHASHSEED'] = str(seed)\n",
    "  np.random.seed(seed)\n",
    "  random.seed(seed)\n",
    "  torch.manual_seed(seed) \n",
    "  torch.cuda.manual_seed(seed) \n",
    "  torch.cuda.manual_seed_all(seed) \n",
    "  torch.backends.cudnn.deterministic = True \n",
    "  torch.backends.cudnn.benchmark = False \n",
    "  torch.backends.cudnn.enabled = True\n",
    "settle_seed()\n",
    "run_name = 'normal'\n",
    "summary_writer = SummaryWriter(f'log/{run_name}')"
   ]
  },
  {
   "cell_type": "code",
   "execution_count": 4,
   "metadata": {},
   "outputs": [],
   "source": [
    "origin_dataset = IPNHandDataset('./data/IPN_Hand/ipn_hand.3.csv')\n",
    "train_dataset, valid_dataset = torch.utils.data.random_split(origin_dataset,[1300, 289])\n",
    "\n",
    "train_data_loader = DataLoader(train_dataset, batch_size= 32, shuffle= True, collate_fn=zeropad_collate_fn)\n",
    "valid_data_loader = DataLoader(valid_dataset, batch_size= 32, shuffle= True, collate_fn=zeropad_collate_fn)"
   ]
  },
  {
   "cell_type": "code",
   "execution_count": 5,
   "metadata": {},
   "outputs": [],
   "source": [
    "model = SequenceClassification()\n",
    "criterion = nn.CrossEntropyLoss()\n",
    "optimizer = torch.optim.Adam(model.parameters(),lr = 0.001,weight_decay= 1e-4)\n",
    "epochs = 50\n",
    "device = torch.device('cuda' if torch.cuda.is_available() else 'cpu')"
   ]
  },
  {
   "cell_type": "code",
   "execution_count": 6,
   "metadata": {},
   "outputs": [
    {
     "name": "stdout",
     "output_type": "stream",
     "text": [
      "Trainging: epoch:0,step:41,mean_loss:0.89806,mean_acc:0.68186\n",
      "Trainging: epoch:1,step:82,mean_loss:0.40377,mean_acc:0.88110\n",
      "Trainging: epoch:2,step:123,mean_loss:0.28232,mean_acc:0.91296\n",
      "Trainging: epoch:3,step:164,mean_loss:0.20323,mean_acc:0.93857\n",
      "Validing: step:200,mean_loss:0.22908,mean_acc:0.93125\n",
      "Trainging: epoch:4,step:205,mean_loss:0.14003,mean_acc:0.96189\n",
      "Trainging: epoch:5,step:246,mean_loss:0.12019,mean_acc:0.96448\n",
      "Trainging: epoch:6,step:287,mean_loss:0.08278,mean_acc:0.97713\n",
      "Trainging: epoch:7,step:328,mean_loss:0.07939,mean_acc:0.97439\n",
      "Trainging: epoch:8,step:369,mean_loss:0.08260,mean_acc:0.97409\n",
      "Validing: step:400,mean_loss:0.23399,mean_acc:0.93437\n",
      "Trainging: epoch:9,step:410,mean_loss:0.08175,mean_acc:0.97515\n",
      "Trainging: epoch:10,step:451,mean_loss:0.04264,mean_acc:0.98780\n",
      "Trainging: epoch:11,step:492,mean_loss:0.03015,mean_acc:0.99314\n",
      "Trainging: epoch:12,step:533,mean_loss:0.04866,mean_acc:0.98780\n",
      "Trainging: epoch:13,step:574,mean_loss:0.05302,mean_acc:0.98476\n",
      "Validing: step:600,mean_loss:0.24593,mean_acc:0.93437\n",
      "Trainging: epoch:14,step:615,mean_loss:0.03138,mean_acc:0.99314\n",
      "Trainging: epoch:15,step:656,mean_loss:0.02582,mean_acc:0.99238\n",
      "Trainging: epoch:16,step:697,mean_loss:0.02726,mean_acc:0.99192\n",
      "Trainging: epoch:17,step:738,mean_loss:0.05370,mean_acc:0.98476\n",
      "Trainging: epoch:18,step:779,mean_loss:0.11156,mean_acc:0.96524\n",
      "Validing: step:800,mean_loss:0.29506,mean_acc:0.93437\n",
      "Trainging: epoch:19,step:820,mean_loss:0.11063,mean_acc:0.96677\n",
      "Trainging: epoch:20,step:861,mean_loss:0.08582,mean_acc:0.97332\n",
      "Trainging: epoch:21,step:902,mean_loss:0.03314,mean_acc:0.98933\n",
      "Trainging: epoch:22,step:943,mean_loss:0.02367,mean_acc:0.99466\n",
      "Trainging: epoch:23,step:984,mean_loss:0.02338,mean_acc:0.99238\n",
      "Validing: step:1000,mean_loss:0.20317,mean_acc:0.95000\n",
      "Trainging: epoch:24,step:1025,mean_loss:0.02510,mean_acc:0.99314\n",
      "Trainging: epoch:25,step:1066,mean_loss:0.02260,mean_acc:0.99421\n",
      "Trainging: epoch:26,step:1107,mean_loss:0.01132,mean_acc:0.99695\n",
      "Trainging: epoch:27,step:1148,mean_loss:0.01312,mean_acc:0.99771\n",
      "Trainging: epoch:28,step:1189,mean_loss:0.01340,mean_acc:0.99802\n",
      "Validing: step:1200,mean_loss:0.27153,mean_acc:0.92813\n",
      "Trainging: epoch:29,step:1230,mean_loss:0.00914,mean_acc:0.99848\n",
      "Trainging: epoch:30,step:1271,mean_loss:0.00468,mean_acc:0.99924\n",
      "Trainging: epoch:31,step:1312,mean_loss:0.00402,mean_acc:0.99848\n",
      "Trainging: epoch:32,step:1353,mean_loss:0.00242,mean_acc:0.99924\n",
      "Trainging: epoch:33,step:1394,mean_loss:0.00100,mean_acc:1.00000\n",
      "Validing: step:1400,mean_loss:0.19670,mean_acc:0.95312\n",
      "Trainging: epoch:34,step:1435,mean_loss:0.00101,mean_acc:1.00000\n",
      "Trainging: epoch:35,step:1476,mean_loss:0.00087,mean_acc:1.00000\n",
      "Trainging: epoch:36,step:1517,mean_loss:0.00082,mean_acc:1.00000\n",
      "Trainging: epoch:37,step:1558,mean_loss:0.00072,mean_acc:1.00000\n",
      "Trainging: epoch:38,step:1599,mean_loss:0.00070,mean_acc:1.00000\n",
      "Validing: step:1600,mean_loss:0.20136,mean_acc:0.95000\n",
      "Trainging: epoch:39,step:1640,mean_loss:0.00072,mean_acc:1.00000\n",
      "Trainging: epoch:40,step:1681,mean_loss:0.00109,mean_acc:1.00000\n",
      "Trainging: epoch:41,step:1722,mean_loss:0.00065,mean_acc:1.00000\n",
      "Trainging: epoch:42,step:1763,mean_loss:0.00099,mean_acc:1.00000\n",
      "Validing: step:1800,mean_loss:0.27251,mean_acc:0.94063\n",
      "Trainging: epoch:43,step:1804,mean_loss:0.00272,mean_acc:0.99848\n",
      "Trainging: epoch:44,step:1845,mean_loss:0.09126,mean_acc:0.97363\n",
      "Trainging: epoch:45,step:1886,mean_loss:0.29704,mean_acc:0.90534\n",
      "Trainging: epoch:46,step:1927,mean_loss:0.17723,mean_acc:0.94817\n",
      "Trainging: epoch:47,step:1968,mean_loss:0.09558,mean_acc:0.96631\n",
      "Validing: step:2000,mean_loss:0.32756,mean_acc:0.90625\n",
      "Trainging: epoch:48,step:2009,mean_loss:0.07737,mean_acc:0.97866\n",
      "Trainging: epoch:49,step:2050,mean_loss:0.02867,mean_acc:0.99314\n"
     ]
    }
   ],
   "source": [
    "def evaluate(step):\n",
    "\n",
    "    model.eval()\n",
    "    valid_loss = []\n",
    "    valid_acc = []\n",
    "    for eval_batch in valid_data_loader:\n",
    "        X, label = eval_batch\n",
    "        X = X.to(device)\n",
    "        label = label.to(device)\n",
    "        pred = model.forward(X)\n",
    "        loss = criterion(pred,label)\n",
    "        acc = sum(torch.argmax(pred,dim = 1) == label) / len(label)\n",
    "        valid_loss.append(loss)\n",
    "        valid_acc.append(acc)\n",
    "    valid_loss = sum(valid_loss) / len(valid_loss) \n",
    "    valid_acc = sum(valid_acc) / len(valid_acc)\n",
    "    # log\n",
    "    summary_writer.add_scalar('Loss/validate', valid_loss, step)\n",
    "    summary_writer.add_scalar('Acc/validate', valid_acc, step)\n",
    "    return valid_loss,valid_acc\n",
    "def train():\n",
    "    step = 0 \n",
    "    model.to(device) \n",
    "    min_loss = float('inf') \n",
    "    for epoch in range(epochs):\n",
    "        train_loss = [] \n",
    "        train_acc = []\n",
    "        for batch in train_data_loader:\n",
    "            model.train() \n",
    "            optimizer.zero_grad() \n",
    "            X, label = batch \n",
    "            # X = X.unsqueeze(1) # in channels \n",
    "            X = X.to(device) \n",
    "            label = label.to(device)\n",
    "            pred = model.forward(X) \n",
    "            loss = criterion(pred,label) \n",
    "            acc = sum(torch.argmax(pred, dim = 1) == label) / len(label) \n",
    "            train_loss.append(loss) \n",
    "            train_acc.append(acc)\n",
    "            # log\n",
    "            summary_writer.add_scalar('Loss/train', loss, step)\n",
    "            summary_writer.add_scalar('Acc/train', acc, step)\n",
    "            loss.backward()\n",
    "            optimizer.step()\n",
    "            step += 1\n",
    "            if step % 200 == 0:\n",
    "                valid_loss,valid_acc = evaluate(step)\n",
    "                print('Validing: step:%d,mean_loss:%.5f,mean_acc:%.5f' % ( step,valid_loss,valid_acc)) \n",
    "                if valid_loss < min_loss:\n",
    "                    min_loss = valid_loss \n",
    "                    torch.save(model.state_dict(), './model/ipn_model_new_73_normal.pt') \n",
    "        mean_loss = sum(train_loss) / len(train_loss) \n",
    "        mean_acc = sum(train_acc) / len(train_acc) \n",
    "        print('Trainging: epoch:%d,step:%d,mean_loss:%.5f,mean_acc:%.5f' % ( epoch,step,mean_loss,mean_acc))\n",
    "train()"
   ]
  },
  {
   "cell_type": "code",
   "execution_count": 7,
   "metadata": {},
   "outputs": [],
   "source": [
    "# load tensorboard extension\n",
    "%load_ext tensorboard"
   ]
  },
  {
   "cell_type": "code",
   "execution_count": null,
   "metadata": {},
   "outputs": [],
   "source": [
    "# launch tensorboard\n",
    "# if you are using vscode, use the bottom left \"...\" button to change the presentation to html\n",
    "%tensorboard --logdir=log"
   ]
  }
 ],
 "metadata": {
  "kernelspec": {
   "display_name": "Python 3.7.13 ('hands_dl')",
   "language": "python",
   "name": "python3"
  },
  "language_info": {
   "codemirror_mode": {
    "name": "ipython",
    "version": 3
   },
   "file_extension": ".py",
   "mimetype": "text/x-python",
   "name": "python",
   "nbconvert_exporter": "python",
   "pygments_lexer": "ipython3",
   "version": "3.7.13"
  },
  "orig_nbformat": 4,
  "vscode": {
   "interpreter": {
    "hash": "96a3e29cce8ff42baa8442838b73f2d6321b0b29868c7c185067930f9d75918e"
   }
  }
 },
 "nbformat": 4,
 "nbformat_minor": 2
}
